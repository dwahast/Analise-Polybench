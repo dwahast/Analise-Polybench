{
 "cells": [
  {
   "cell_type": "code",
   "execution_count": 1,
   "metadata": {},
   "outputs": [],
   "source": [
    "import pandas as pd\n",
    "import matplotlib.pyplot as plt\n",
    "\n",
    "path='2DCONV_A7_400000_log_tempo.txt'\n",
    "\n",
    "log_data=open(path,'r')\n",
    "df = pd.DataFrame()"
   ]
  },
  {
   "cell_type": "code",
   "execution_count": 2,
   "metadata": {},
   "outputs": [],
   "source": [
    "def group_results(file, name):\n",
    "    df_temp = pd.DataFrame()\n",
    "    dict_temp = {}    \n",
    "    #df_mean = df.groupby('Name', axis=0).mean().reset_index()\n",
    "    for line in file: \n",
    "        if \":\" in line:\n",
    "            key, value = line.split(':')[0], line.split(':')[1]\n",
    "            dict_temp[key] =  float(value)\n",
    "            if \"Free mem\" in key:\n",
    "                #last variable can add to the dataframe\n",
    "                dict_temp['Name'] = str(name.split(\"_\")[1] + name.split(\"_\")[2])\n",
    "                print(dict_temp)\n",
    "                df_temp = df_temp.append(dict_temp, ignore_index=True)\n",
    "                dict_temp = dict.fromkeys(dict_temp, 0)\n",
    "    \n",
    "    df_temp = df_temp.mean().to_dict()\n",
    "    \n",
    "    return df_temp"
   ]
  },
  {
   "cell_type": "code",
   "execution_count": 3,
   "metadata": {},
   "outputs": [
    {
     "name": "stdout",
     "output_type": "stream",
     "text": [
      "{'Init Array \\t runtime': 7.5945308208, 'Read Kernel  runtime': 0.0004467964, 'Kernels Init runtime': 0.1851501465, 'Memory Init  runtime': 0.6115369797, 'Prog Load    runtime': 1.8986070156, 'Kernels \\t runtime': 0.928783834, 'Launch Kernl runtime': 0.929997921, 'Clean  up    runtime': 0.1025848389, 'Sequential \\t runtime': 0.0, 'CPU Kernel \\t runtime': 0.929997921, 'GPU Kernel \\t runtime': 0.0, 'Data Alloc   runtime': 0.0004389286, 'Non-Matching CPU-GPU Outputs Beyond Error Threshold of 1.05 Percent': 16524112.0, 'Free memory  runtime': 0.1035029888, 'Name': 'A7400000'}\n",
      "{'Init Array \\t runtime': 7.6023051739, 'Read Kernel  runtime': 0.0004379749, 'Kernels Init runtime': 0.1845839024, 'Memory Init  runtime': 0.6087021828, 'Prog Load    runtime': 1.8729279041, 'Kernels \\t runtime': 0.88496475, 'Launch Kernl runtime': 0.8863420486, 'Clean  up    runtime': 0.103413105, 'Sequential \\t runtime': 0.0, 'CPU Kernel \\t runtime': 0.8863420486, 'GPU Kernel \\t runtime': 0.0, 'Data Alloc   runtime': 0.0004458427, 'Non-Matching CPU-GPU Outputs Beyond Error Threshold of 1.05 Percent': 16524112.0, 'Free memory  runtime': 0.1049230099, 'Name': 'A7400000'}\n",
      "{'Init Array \\t runtime': 7.5882389545, 'Read Kernel  runtime': 0.0004229546, 'Kernels Init runtime': 0.1848089695, 'Memory Init  runtime': 0.6062150002, 'Prog Load    runtime': 1.8689181805, 'Kernels \\t runtime': 0.872435916, 'Launch Kernl runtime': 0.8736460209, 'Clean  up    runtime': 0.1019601822, 'Sequential \\t runtime': 0.0, 'CPU Kernel \\t runtime': 0.8736460209, 'GPU Kernel \\t runtime': 0.0, 'Data Alloc   runtime': 0.0005331039, 'Non-Matching CPU-GPU Outputs Beyond Error Threshold of 1.05 Percent': 16524112.0, 'Free memory  runtime': 0.106470108, 'Name': 'A7400000'}\n",
      "{'Init Array \\t runtime': 7.611579895, 'Read Kernel  runtime': 0.0004382133, 'Kernels Init runtime': 0.1849060059, 'Memory Init  runtime': 0.603249073, 'Prog Load    runtime': 1.8852980137, 'Kernels \\t runtime': 0.879381875, 'Launch Kernl runtime': 0.8807010651, 'Clean  up    runtime': 0.1029648781, 'Sequential \\t runtime': 0.0, 'CPU Kernel \\t runtime': 0.8807010651, 'GPU Kernel \\t runtime': 0.0, 'Data Alloc   runtime': 0.000442028, 'Non-Matching CPU-GPU Outputs Beyond Error Threshold of 1.05 Percent': 16524112.0, 'Free memory  runtime': 0.1078560352, 'Name': 'A7400000'}\n",
      "{'Init Array \\t runtime': 7.6289830208, 'Read Kernel  runtime': 0.0004489422, 'Kernels Init runtime': 0.1861929893, 'Memory Init  runtime': 0.5998170376, 'Prog Load    runtime': 1.8815619946, 'Kernels \\t runtime': 0.893724583, 'Launch Kernl runtime': 0.8950600624, 'Clean  up    runtime': 0.1056528091, 'Sequential \\t runtime': 0.0, 'CPU Kernel \\t runtime': 0.8950600624, 'GPU Kernel \\t runtime': 0.0, 'Data Alloc   runtime': 0.0005350113, 'Non-Matching CPU-GPU Outputs Beyond Error Threshold of 1.05 Percent': 16524112.0, 'Free memory  runtime': 0.1048650742, 'Name': 'A7400000'}\n",
      "{'Init Array \\t runtime': 7.6240320206, 'Read Kernel  runtime': 0.0004460812, 'Kernels Init runtime': 0.1854169369, 'Memory Init  runtime': 0.6107420921, 'Prog Load    runtime': 1.8670239449, 'Kernels \\t runtime': 0.87900475, 'Launch Kernl runtime': 0.8802230358, 'Clean  up    runtime': 0.1016440392, 'Sequential \\t runtime': 0.0, 'CPU Kernel \\t runtime': 0.8802230358, 'GPU Kernel \\t runtime': 0.0, 'Data Alloc   runtime': 0.0005350113, 'Non-Matching CPU-GPU Outputs Beyond Error Threshold of 1.05 Percent': 16524112.0, 'Free memory  runtime': 0.1053798199, 'Name': 'A7400000'}\n",
      "{'Init Array \\t runtime': 7.6486079693, 'Read Kernel  runtime': 0.0004680157, 'Kernels Init runtime': 0.1857049465, 'Memory Init  runtime': 0.6069209576, 'Prog Load    runtime': 1.8777120113, 'Kernels \\t runtime': 18446744070.33463, 'Launch Kernl runtime': 0.9212610722, 'Clean  up    runtime': 0.101598978, 'Sequential \\t runtime': 0.0, 'CPU Kernel \\t runtime': 0.9212610722, 'GPU Kernel \\t runtime': 0.0, 'Data Alloc   runtime': 0.000442028, 'Non-Matching CPU-GPU Outputs Beyond Error Threshold of 1.05 Percent': 16524112.0, 'Free memory  runtime': 0.1056900024, 'Name': 'A7400000'}\n",
      "{'Init Array \\t runtime': 7.6127300262, 'Read Kernel  runtime': 0.0003290176, 'Kernels Init runtime': 0.186480999, 'Memory Init  runtime': 0.6095180511, 'Prog Load    runtime': 1.9110879898, 'Kernels \\t runtime': 0.884729417, 'Launch Kernl runtime': 0.8859729767, 'Clean  up    runtime': 0.1015751362, 'Sequential \\t runtime': 0.0, 'CPU Kernel \\t runtime': 0.8859729767, 'GPU Kernel \\t runtime': 0.0, 'Data Alloc   runtime': 0.0005412102, 'Non-Matching CPU-GPU Outputs Beyond Error Threshold of 1.05 Percent': 16524112.0, 'Free memory  runtime': 0.105659008, 'Name': 'A7400000'}\n",
      "{'Init Array \\t runtime': 7.6146540642, 'Read Kernel  runtime': 0.0003168583, 'Kernels Init runtime': 0.1859190464, 'Memory Init  runtime': 0.603096962, 'Prog Load    runtime': 1.8810698986, 'Kernels \\t runtime': 0.931215542, 'Launch Kernl runtime': 0.9325549603, 'Clean  up    runtime': 0.103012085, 'Sequential \\t runtime': 0.0, 'CPU Kernel \\t runtime': 0.9325549603, 'GPU Kernel \\t runtime': 0.0, 'Data Alloc   runtime': 0.000551939, 'Non-Matching CPU-GPU Outputs Beyond Error Threshold of 1.05 Percent': 16524112.0, 'Free memory  runtime': 0.1120541096, 'Name': 'A7400000'}\n",
      "{'Init Array \\t runtime': 7.6081299782, 'Read Kernel  runtime': 0.000328064, 'Kernels Init runtime': 0.1856079102, 'Memory Init  runtime': 0.6049990654, 'Prog Load    runtime': 1.894110918, 'Kernels \\t runtime': 0.885699834, 'Launch Kernl runtime': 0.8869249821, 'Clean  up    runtime': 0.1040928364, 'Sequential \\t runtime': 0.0, 'CPU Kernel \\t runtime': 0.8869249821, 'GPU Kernel \\t runtime': 0.0, 'Data Alloc   runtime': 0.0005409718, 'Non-Matching CPU-GPU Outputs Beyond Error Threshold of 1.05 Percent': 16524112.0, 'Free memory  runtime': 0.1075568199, 'Name': 'A7400000'}\n",
      "{'Init Array \\t runtime': 7.6242630482, 'Read Kernel  runtime': 0.0004570484, 'Kernels Init runtime': 0.1868882179, 'Memory Init  runtime': 0.6076049805, 'Prog Load    runtime': 1.8751039505, 'Kernels \\t runtime': 18446744070.29408, 'Launch Kernl runtime': 0.8809599876, 'Clean  up    runtime': 0.1028978825, 'Sequential \\t runtime': 0.0, 'CPU Kernel \\t runtime': 0.8809599876, 'GPU Kernel \\t runtime': 0.0, 'Data Alloc   runtime': 0.0004489422, 'Non-Matching CPU-GPU Outputs Beyond Error Threshold of 1.05 Percent': 16524112.0, 'Free memory  runtime': 0.1058781147, 'Name': 'A7400000'}\n",
      "{'Init Array \\t runtime': 7.5999131203, 'Read Kernel  runtime': 0.0004251003, 'Kernels Init runtime': 0.1925849915, 'Memory Init  runtime': 0.6071019173, 'Prog Load    runtime': 1.8910870552, 'Kernels \\t runtime': 0.87482625, 'Launch Kernl runtime': 0.8760509491, 'Clean  up    runtime': 0.1020150185, 'Sequential \\t runtime': 0.0, 'CPU Kernel \\t runtime': 0.8760509491, 'GPU Kernel \\t runtime': 0.0, 'Data Alloc   runtime': 0.000440836, 'Non-Matching CPU-GPU Outputs Beyond Error Threshold of 1.05 Percent': 16524112.0, 'Free memory  runtime': 0.106402874, 'Name': 'A7400000'}\n",
      "{'Init Array \\t runtime': 7.5883469582, 'Read Kernel  runtime': 0.0004010201, 'Kernels Init runtime': 0.1863658428, 'Memory Init  runtime': 0.6056010723, 'Prog Load    runtime': 1.868076086, 'Kernels \\t runtime': 0.884324333, 'Launch Kernl runtime': 0.8855400085, 'Clean  up    runtime': 0.1017041206, 'Sequential \\t runtime': 0.0, 'CPU Kernel \\t runtime': 0.8855400085, 'GPU Kernel \\t runtime': 0.0, 'Data Alloc   runtime': 0.0005540848, 'Non-Matching CPU-GPU Outputs Beyond Error Threshold of 1.05 Percent': 16524112.0, 'Free memory  runtime': 0.1059811115, 'Name': 'A7400000'}\n",
      "{'Init Array \\t runtime': 7.611068964, 'Read Kernel  runtime': 0.0004448891, 'Kernels Init runtime': 0.1869380474, 'Memory Init  runtime': 0.6321239471, 'Prog Load    runtime': 1.874958992, 'Kernels \\t runtime': 0.872630542, 'Launch Kernl runtime': 0.8738369942, 'Clean  up    runtime': 0.1009008884, 'Sequential \\t runtime': 0.0, 'CPU Kernel \\t runtime': 0.8738369942, 'GPU Kernel \\t runtime': 0.0, 'Data Alloc   runtime': 0.0004560947, 'Non-Matching CPU-GPU Outputs Beyond Error Threshold of 1.05 Percent': 16524112.0, 'Free memory  runtime': 0.105738163, 'Name': 'A7400000'}\n",
      "{'Init Array \\t runtime': 7.5897459984, 'Read Kernel  runtime': 0.000330925, 'Kernels Init runtime': 0.1856458187, 'Memory Init  runtime': 0.6116900444, 'Prog Load    runtime': 1.8682470322, 'Kernels \\t runtime': 0.875299042, 'Launch Kernl runtime': 0.8765230179, 'Clean  up    runtime': 0.1008741856, 'Sequential \\t runtime': 0.0, 'CPU Kernel \\t runtime': 0.8765230179, 'GPU Kernel \\t runtime': 0.0, 'Data Alloc   runtime': 0.0005309582, 'Non-Matching CPU-GPU Outputs Beyond Error Threshold of 1.05 Percent': 16524112.0, 'Free memory  runtime': 0.1057109833, 'Name': 'A7400000'}\n",
      "{'Init Array \\t runtime': 7.6261179447, 'Read Kernel  runtime': 0.0003340244, 'Kernels Init runtime': 0.1860589981, 'Memory Init  runtime': 0.6201400757, 'Prog Load    runtime': 1.8655719757, 'Kernels \\t runtime': 0.915966417, 'Launch Kernl runtime': 0.9172949791, 'Clean  up    runtime': 0.1019170284, 'Sequential \\t runtime': 0.0, 'CPU Kernel \\t runtime': 0.9172949791, 'GPU Kernel \\t runtime': 0.0, 'Data Alloc   runtime': 0.0005331039, 'Non-Matching CPU-GPU Outputs Beyond Error Threshold of 1.05 Percent': 16524112.0, 'Free memory  runtime': 0.1063828468, 'Name': 'A7400000'}\n",
      "{'Init Array \\t runtime': 7.6385819912, 'Read Kernel  runtime': 0.0003390312, 'Kernels Init runtime': 0.1874949932, 'Memory Init  runtime': 0.6222338676, 'Prog Load    runtime': 1.8954210281, 'Kernels \\t runtime': 0.920159542, 'Launch Kernl runtime': 0.92136693, 'Clean  up    runtime': 0.1026198864, 'Sequential \\t runtime': 0.0, 'CPU Kernel \\t runtime': 0.92136693, 'GPU Kernel \\t runtime': 0.0, 'Data Alloc   runtime': 0.0004410744, 'Non-Matching CPU-GPU Outputs Beyond Error Threshold of 1.05 Percent': 16524112.0, 'Free memory  runtime': 0.1057639122, 'Name': 'A7400000'}\n",
      "{'Init Array \\t runtime': 7.591547966, 'Read Kernel  runtime': 0.0004389286, 'Kernels Init runtime': 0.1852381229, 'Memory Init  runtime': 0.6119019985, 'Prog Load    runtime': 1.8707270622, 'Kernels \\t runtime': 18446744070.30037, 'Launch Kernl runtime': 0.8870048523, 'Clean  up    runtime': 0.1011900902, 'Sequential \\t runtime': 0.0, 'CPU Kernel \\t runtime': 0.8870048523, 'GPU Kernel \\t runtime': 0.0, 'Data Alloc   runtime': 0.0005319118, 'Non-Matching CPU-GPU Outputs Beyond Error Threshold of 1.05 Percent': 16524112.0, 'Free memory  runtime': 0.1063649654, 'Name': 'A7400000'}\n",
      "{'Init Array \\t runtime': 7.6226739883, 'Read Kernel  runtime': 0.000453949, 'Kernels Init runtime': 0.1863629818, 'Memory Init  runtime': 0.6125819683, 'Prog Load    runtime': 1.877933979, 'Kernels \\t runtime': 0.87278075, 'Launch Kernl runtime': 0.8740170002, 'Clean  up    runtime': 0.1017289162, 'Sequential \\t runtime': 0.0, 'CPU Kernel \\t runtime': 0.8740170002, 'GPU Kernel \\t runtime': 0.0, 'Data Alloc   runtime': 0.0005381107, 'Non-Matching CPU-GPU Outputs Beyond Error Threshold of 1.05 Percent': 16524112.0, 'Free memory  runtime': 0.1055650711, 'Name': 'A7400000'}\n",
      "{'Init Array \\t runtime': 7.5911312103, 'Read Kernel  runtime': 0.0003368855, 'Kernels Init runtime': 0.1852600574, 'Memory Init  runtime': 0.6011970043, 'Prog Load    runtime': 1.8711278439, 'Kernels \\t runtime': 0.899615041, 'Launch Kernl runtime': 0.9008250237, 'Clean  up    runtime': 0.1018381119, 'Sequential \\t runtime': 0.0, 'CPU Kernel \\t runtime': 0.9008250237, 'GPU Kernel \\t runtime': 0.0, 'Data Alloc   runtime': 0.0006251335, 'Non-Matching CPU-GPU Outputs Beyond Error Threshold of 1.05 Percent': 16524112.0, 'Free memory  runtime': 0.1058001518, 'Name': 'A7400000'}\n",
      "{'Init Array \\t runtime': 7.5919787884, 'Read Kernel  runtime': 0.0003428459, 'Kernels Init runtime': 0.1869931221, 'Memory Init  runtime': 0.6028089523, 'Prog Load    runtime': 1.8728718758, 'Kernels \\t runtime': 0.872650584, 'Launch Kernl runtime': 0.8738620281, 'Clean  up    runtime': 0.1036229134, 'Sequential \\t runtime': 0.0, 'CPU Kernel \\t runtime': 0.8738620281, 'GPU Kernel \\t runtime': 0.0, 'Data Alloc   runtime': 0.0005409718, 'Non-Matching CPU-GPU Outputs Beyond Error Threshold of 1.05 Percent': 16524112.0, 'Free memory  runtime': 0.1069450378, 'Name': 'A7400000'}\n",
      "{'Init Array \\t runtime': 7.6369731426, 'Read Kernel  runtime': 0.0004410744, 'Kernels Init runtime': 0.185749054, 'Memory Init  runtime': 0.5995709896, 'Prog Load    runtime': 1.8638370037, 'Kernels \\t runtime': 0.916530417, 'Launch Kernl runtime': 0.9177370071, 'Clean  up    runtime': 0.1016049385, 'Sequential \\t runtime': 0.0, 'CPU Kernel \\t runtime': 0.9177370071, 'GPU Kernel \\t runtime': 0.0, 'Data Alloc   runtime': 0.0004448891, 'Non-Matching CPU-GPU Outputs Beyond Error Threshold of 1.05 Percent': 16524112.0, 'Free memory  runtime': 0.1070611477, 'Name': 'A7400000'}\n",
      "{'Init Array \\t runtime': 7.5891401768, 'Read Kernel  runtime': 0.0004410744, 'Kernels Init runtime': 0.1854808331, 'Memory Init  runtime': 0.601719141, 'Prog Load    runtime': 1.8607800007, 'Kernels \\t runtime': 0.866510084, 'Launch Kernl runtime': 0.8678200245, 'Clean  up    runtime': 0.1003890038, 'Sequential \\t runtime': 0.0, 'CPU Kernel \\t runtime': 0.8678200245, 'GPU Kernel \\t runtime': 0.0, 'Data Alloc   runtime': 0.0004429817, 'Non-Matching CPU-GPU Outputs Beyond Error Threshold of 1.05 Percent': 16524112.0, 'Free memory  runtime': 0.1058278084, 'Name': 'A7400000'}\n",
      "{'Init Array \\t runtime': 7.5913219452, 'Read Kernel  runtime': 0.0004239082, 'Kernels Init runtime': 0.185418129, 'Memory Init  runtime': 0.6113288403, 'Prog Load    runtime': 1.8661408424, 'Kernels \\t runtime': 0.895127042, 'Launch Kernl runtime': 0.8963301182, 'Clean  up    runtime': 0.1008360386, 'Sequential \\t runtime': 0.0, 'CPU Kernel \\t runtime': 0.8963301182, 'GPU Kernel \\t runtime': 0.0, 'Data Alloc   runtime': 0.000451088, 'Non-Matching CPU-GPU Outputs Beyond Error Threshold of 1.05 Percent': 16524112.0, 'Free memory  runtime': 0.1058809757, 'Name': 'A7400000'}\n"
     ]
    },
    {
     "name": "stdout",
     "output_type": "stream",
     "text": [
      "{'Init Array \\t runtime': 7.5908501148, 'Read Kernel  runtime': 0.0004470348, 'Kernels Init runtime': 0.1851668358, 'Memory Init  runtime': 0.6033811569, 'Prog Load    runtime': 1.8711490631, 'Kernels \\t runtime': 18446744070.30207, 'Launch Kernl runtime': 0.8887028694, 'Clean  up    runtime': 0.1005580425, 'Sequential \\t runtime': 0.0, 'CPU Kernel \\t runtime': 0.8887028694, 'GPU Kernel \\t runtime': 0.0, 'Data Alloc   runtime': 0.0004389286, 'Non-Matching CPU-GPU Outputs Beyond Error Threshold of 1.05 Percent': 16524112.0, 'Free memory  runtime': 0.1057431698, 'Name': 'A7400000'}\n",
      "{'Init Array \\t runtime': 7.5922138691, 'Read Kernel  runtime': 0.0003399849, 'Kernels Init runtime': 0.1867101192, 'Memory Init  runtime': 0.6052558422, 'Prog Load    runtime': 1.8664739132, 'Kernels \\t runtime': 0.8710875, 'Launch Kernl runtime': 0.8722860813, 'Clean  up    runtime': 0.1019620895, 'Sequential \\t runtime': 0.0, 'CPU Kernel \\t runtime': 0.8722860813, 'GPU Kernel \\t runtime': 0.0, 'Data Alloc   runtime': 0.0005378723, 'Non-Matching CPU-GPU Outputs Beyond Error Threshold of 1.05 Percent': 16524112.0, 'Free memory  runtime': 0.1066319942, 'Name': 'A7400000'}\n",
      "{'Init Array \\t runtime': 7.5915930271, 'Read Kernel  runtime': 0.0003318787, 'Kernels Init runtime': 0.1858971119, 'Memory Init  runtime': 0.6024122238, 'Prog Load    runtime': 1.883630991, 'Kernels \\t runtime': 0.875741042, 'Launch Kernl runtime': 0.8769538403, 'Clean  up    runtime': 0.1011610031, 'Sequential \\t runtime': 0.0, 'CPU Kernel \\t runtime': 0.8769538403, 'GPU Kernel \\t runtime': 0.0, 'Data Alloc   runtime': 0.0004489422, 'Non-Matching CPU-GPU Outputs Beyond Error Threshold of 1.05 Percent': 16524112.0, 'Free memory  runtime': 0.1057720184, 'Name': 'A7400000'}\n",
      "{'Init Array \\t runtime': 7.5907039642, 'Read Kernel  runtime': 0.0004370213, 'Kernels Init runtime': 0.1853759289, 'Memory Init  runtime': 0.615650177, 'Prog Load    runtime': 1.8696827888, 'Kernels \\t runtime': 0.874016916, 'Launch Kernl runtime': 0.8753449917, 'Clean  up    runtime': 0.101307869, 'Sequential \\t runtime': 0.0, 'CPU Kernel \\t runtime': 0.8753449917, 'GPU Kernel \\t runtime': 0.0, 'Data Alloc   runtime': 0.0004389286, 'Non-Matching CPU-GPU Outputs Beyond Error Threshold of 1.05 Percent': 16524112.0, 'Free memory  runtime': 0.1059370041, 'Name': 'A7400000'}\n",
      "{'Init Array \\t runtime': 7.5900449753, 'Read Kernel  runtime': 0.0003340244, 'Kernels Init runtime': 0.1861610413, 'Memory Init  runtime': 0.6148059368, 'Prog Load    runtime': 1.8588340282, 'Kernels \\t runtime': 0.884245292, 'Launch Kernl runtime': 0.8855819702, 'Clean  up    runtime': 0.1004719734, 'Sequential \\t runtime': 0.0, 'CPU Kernel \\t runtime': 0.8855819702, 'GPU Kernel \\t runtime': 0.0, 'Data Alloc   runtime': 0.0005381107, 'Non-Matching CPU-GPU Outputs Beyond Error Threshold of 1.05 Percent': 16524112.0, 'Free memory  runtime': 0.1059498787, 'Name': 'A7400000'}\n",
      "{'Init Array \\t runtime': 7.589769125, 'Read Kernel  runtime': 0.0004379749, 'Kernels Init runtime': 0.18501091, 'Memory Init  runtime': 0.6015300751, 'Prog Load    runtime': 1.8669528961, 'Kernels \\t runtime': 0.872255833, 'Launch Kernl runtime': 0.8734750748, 'Clean  up    runtime': 0.1016449928, 'Sequential \\t runtime': 0.0, 'CPU Kernel \\t runtime': 0.8734750748, 'GPU Kernel \\t runtime': 0.0, 'Data Alloc   runtime': 0.0005340576, 'Non-Matching CPU-GPU Outputs Beyond Error Threshold of 1.05 Percent': 16524112.0, 'Free memory  runtime': 0.1064698696, 'Name': 'A7400000'}\n"
     ]
    }
   ],
   "source": [
    "temp_dict = group_results(log_data, path)\n",
    "\n",
    "df = df.append(temp_dict, ignore_index=True)\n"
   ]
  },
  {
   "cell_type": "code",
   "execution_count": 4,
   "metadata": {},
   "outputs": [
    {
     "data": {
      "text/html": [
       "<div>\n",
       "<style scoped>\n",
       "    .dataframe tbody tr th:only-of-type {\n",
       "        vertical-align: middle;\n",
       "    }\n",
       "\n",
       "    .dataframe tbody tr th {\n",
       "        vertical-align: top;\n",
       "    }\n",
       "\n",
       "    .dataframe thead th {\n",
       "        text-align: right;\n",
       "    }\n",
       "</style>\n",
       "<table border=\"1\" class=\"dataframe\">\n",
       "  <thead>\n",
       "    <tr style=\"text-align: right;\">\n",
       "      <th></th>\n",
       "      <th>CPU Kernel \t runtime</th>\n",
       "      <th>Clean  up    runtime</th>\n",
       "      <th>Data Alloc   runtime</th>\n",
       "      <th>Free memory  runtime</th>\n",
       "      <th>GPU Kernel \t runtime</th>\n",
       "      <th>Init Array \t runtime</th>\n",
       "      <th>Kernels \t runtime</th>\n",
       "      <th>Kernels Init runtime</th>\n",
       "      <th>Launch Kernl runtime</th>\n",
       "      <th>Memory Init  runtime</th>\n",
       "      <th>Non-Matching CPU-GPU Outputs Beyond Error Threshold of 1.05 Percent</th>\n",
       "      <th>Prog Load    runtime</th>\n",
       "      <th>Read Kernel  runtime</th>\n",
       "      <th>Sequential \t runtime</th>\n",
       "    </tr>\n",
       "  </thead>\n",
       "  <tbody>\n",
       "    <tr>\n",
       "      <th>0</th>\n",
       "      <td>0.889807</td>\n",
       "      <td>0.101991</td>\n",
       "      <td>0.000497</td>\n",
       "      <td>0.106192</td>\n",
       "      <td>0.0</td>\n",
       "      <td>7.605726</td>\n",
       "      <td>2.459566e+09</td>\n",
       "      <td>0.186052</td>\n",
       "      <td>0.889807</td>\n",
       "      <td>0.608515</td>\n",
       "      <td>16524112.0</td>\n",
       "      <td>1.875898</td>\n",
       "      <td>0.000401</td>\n",
       "      <td>0.0</td>\n",
       "    </tr>\n",
       "  </tbody>\n",
       "</table>\n",
       "</div>"
      ],
      "text/plain": [
       "   CPU Kernel \\t runtime  Clean  up    runtime  Data Alloc   runtime  \\\n",
       "0               0.889807              0.101991              0.000497   \n",
       "\n",
       "   Free memory  runtime  GPU Kernel \\t runtime  Init Array \\t runtime  \\\n",
       "0              0.106192                    0.0               7.605726   \n",
       "\n",
       "   Kernels \\t runtime  Kernels Init runtime  Launch Kernl runtime  \\\n",
       "0        2.459566e+09              0.186052              0.889807   \n",
       "\n",
       "   Memory Init  runtime  \\\n",
       "0              0.608515   \n",
       "\n",
       "   Non-Matching CPU-GPU Outputs Beyond Error Threshold of 1.05 Percent  \\\n",
       "0                                         16524112.0                     \n",
       "\n",
       "   Prog Load    runtime  Read Kernel  runtime  Sequential \\t runtime  \n",
       "0              1.875898              0.000401                    0.0  "
      ]
     },
     "execution_count": 4,
     "metadata": {},
     "output_type": "execute_result"
    }
   ],
   "source": [
    "df"
   ]
  },
  {
   "cell_type": "code",
   "execution_count": null,
   "metadata": {},
   "outputs": [],
   "source": []
  }
 ],
 "metadata": {
  "kernelspec": {
   "display_name": "Python 3",
   "language": "python",
   "name": "python3"
  },
  "language_info": {
   "codemirror_mode": {
    "name": "ipython",
    "version": 3
   },
   "file_extension": ".py",
   "mimetype": "text/x-python",
   "name": "python",
   "nbconvert_exporter": "python",
   "pygments_lexer": "ipython3",
   "version": "3.7.3"
  }
 },
 "nbformat": 4,
 "nbformat_minor": 2
}
